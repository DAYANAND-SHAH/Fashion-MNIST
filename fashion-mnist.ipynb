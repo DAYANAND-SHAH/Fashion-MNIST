{
  "nbformat": 4,
  "nbformat_minor": 0,
  "metadata": {
    "accelerator": "GPU",
    "colab": {
      "name": "Untitled16.ipynb",
      "provenance": [],
      "collapsed_sections": [],
      "authorship_tag": "ABX9TyMW8+GI0kLAUDl0XZXkST3g"
    },
    "kernelspec": {
      "display_name": "Python 3",
      "name": "python3"
    },
    "language_info": {
      "name": "python"
    }
  },
  "cells": [
    {
      "cell_type": "markdown",
      "metadata": {
        "id": "BWyI8ZRKmXZf"
      },
      "source": [
        "\n",
        "# **`Convolutional neural network for image classification of fashion-MNIST`**\n"
      ]
    },
    {
      "cell_type": "markdown",
      "metadata": {
        "id": "aikAqnpNeHpZ"
      },
      "source": [
        "**Loading Fashion-MNIST**"
      ]
    },
    {
      "cell_type": "code",
      "metadata": {
        "id": "JxmspPKN9KQq"
      },
      "source": [
        "from tensorflow.keras.datasets import fashion_mnist\n"
      ],
      "execution_count": 1,
      "outputs": []
    },
    {
      "cell_type": "markdown",
      "metadata": {
        "id": "7g5Cy28qldd0"
      },
      "source": [
        "**Importing required Liberies**"
      ]
    },
    {
      "cell_type": "code",
      "metadata": {
        "id": "LKhKcfhVlW4-"
      },
      "source": [
        "from sklearn.metrics import classification_report\n",
        "import matplotlib.pyplot as plt\n",
        "import numpy as np"
      ],
      "execution_count": 2,
      "outputs": []
    },
    {
      "cell_type": "markdown",
      "metadata": {
        "id": "g-NKfItPeUFV"
      },
      "source": [
        "Data split for training and testing."
      ]
    },
    {
      "cell_type": "code",
      "metadata": {
        "colab": {
          "base_uri": "https://localhost:8080/"
        },
        "id": "FyzUAtTI9qrH",
        "outputId": "dd29a1e9-f172-464c-8379-ed6a7cfe062e"
      },
      "source": [
        "(x_train,y_train),(x_test,y_test)= fashion_mnist.load_data()"
      ],
      "execution_count": 3,
      "outputs": [
        {
          "output_type": "stream",
          "text": [
            "Downloading data from https://storage.googleapis.com/tensorflow/tf-keras-datasets/train-labels-idx1-ubyte.gz\n",
            "32768/29515 [=================================] - 0s 0us/step\n",
            "Downloading data from https://storage.googleapis.com/tensorflow/tf-keras-datasets/train-images-idx3-ubyte.gz\n",
            "26427392/26421880 [==============================] - 0s 0us/step\n",
            "Downloading data from https://storage.googleapis.com/tensorflow/tf-keras-datasets/t10k-labels-idx1-ubyte.gz\n",
            "8192/5148 [===============================================] - 0s 0us/step\n",
            "Downloading data from https://storage.googleapis.com/tensorflow/tf-keras-datasets/t10k-images-idx3-ubyte.gz\n",
            "4423680/4422102 [==============================] - 0s 0us/step\n"
          ],
          "name": "stdout"
        }
      ]
    },
    {
      "cell_type": "code",
      "metadata": {
        "colab": {
          "base_uri": "https://localhost:8080/"
        },
        "id": "EmqA_-nV-XhB",
        "outputId": "cd9281af-9f58-4f17-9d8c-d0831eac8214"
      },
      "source": [
        "x_train.shape"
      ],
      "execution_count": 4,
      "outputs": [
        {
          "output_type": "execute_result",
          "data": {
            "text/plain": [
              "(60000, 28, 28)"
            ]
          },
          "metadata": {
            "tags": []
          },
          "execution_count": 4
        }
      ]
    },
    {
      "cell_type": "code",
      "metadata": {
        "colab": {
          "base_uri": "https://localhost:8080/"
        },
        "id": "nnV2dBw3-eNj",
        "outputId": "0d610c40-ba69-4752-ae5c-13316fdf90de"
      },
      "source": [
        "x_test.shape"
      ],
      "execution_count": 5,
      "outputs": [
        {
          "output_type": "execute_result",
          "data": {
            "text/plain": [
              "(10000, 28, 28)"
            ]
          },
          "metadata": {
            "tags": []
          },
          "execution_count": 5
        }
      ]
    },
    {
      "cell_type": "markdown",
      "metadata": {
        "id": "D3RfIqPIddI4"
      },
      "source": [
        "Prepocessing Image Data\n",
        "-Normalization of image Data"
      ]
    },
    {
      "cell_type": "code",
      "metadata": {
        "id": "9lQRfbRB-t0K"
      },
      "source": [
        "x_train=x_train/255.0\n",
        "x_test=x_test/255.0\n"
      ],
      "execution_count": 6,
      "outputs": []
    },
    {
      "cell_type": "markdown",
      "metadata": {
        "id": "n2L9HOssdnp1"
      },
      "source": [
        "Reshaping of train and test Image Data "
      ]
    },
    {
      "cell_type": "code",
      "metadata": {
        "id": "7cgJNkkg_MMF"
      },
      "source": [
        "x_train=x_train.reshape((60000,28,28,1)) \n",
        "x_test=x_test.reshape((10000,28,28,1))"
      ],
      "execution_count": 7,
      "outputs": []
    },
    {
      "cell_type": "markdown",
      "metadata": {
        "id": "azn65lcOkJ_9"
      },
      "source": [
        "one-hot encode categorical data."
      ]
    },
    {
      "cell_type": "code",
      "metadata": {
        "id": "Fp-uS7q5_Nzz"
      },
      "source": [
        "from tensorflow.keras.utils import to_categorical"
      ],
      "execution_count": 8,
      "outputs": []
    },
    {
      "cell_type": "code",
      "metadata": {
        "id": "YHy6eD7i_9Qj"
      },
      "source": [
        "y_train= to_categorical(y_train,10)\n",
        "y_test= to_categorical(y_test,10)"
      ],
      "execution_count": 9,
      "outputs": []
    },
    {
      "cell_type": "markdown",
      "metadata": {
        "id": "md2uD87dkWcE"
      },
      "source": [
        "**Model Building**"
      ]
    },
    {
      "cell_type": "code",
      "metadata": {
        "id": "WgHlcdHWAXtZ"
      },
      "source": [
        "from tensorflow.keras.models import Sequential\n",
        "from tensorflow.keras.layers import Conv2D, MaxPooling2D, Dense, Flatten, BatchNormalization, Dropout"
      ],
      "execution_count": 10,
      "outputs": []
    },
    {
      "cell_type": "code",
      "metadata": {
        "id": "vm5FMIRDBDUV"
      },
      "source": [
        "model= Sequential()"
      ],
      "execution_count": 11,
      "outputs": []
    },
    {
      "cell_type": "code",
      "metadata": {
        "id": "UrT0e05XBIa_"
      },
      "source": [
        "model.add(BatchNormalization())\n",
        "model.add(Conv2D(filters=64,kernel_size=(4,4),input_shape=(28,28,1), activation='relu'))\n",
        "model.add(MaxPooling2D(pool_size=(2,2)))\n",
        "model.add(Dropout(0.1))\n",
        "model.add(Conv2D(filters=64,kernel_size=(4,4),input_shape=(28,28,1), activation='relu'))\n",
        "model.add(MaxPooling2D(pool_size=(2,2)))\n",
        "model.add(Dropout(0.3))\n",
        "model.add(Flatten())\n",
        "model.add(Dense(256,activation='relu'))\n",
        "model.add(Dropout(0.5))\n",
        "model.add(BatchNormalization())\n",
        "model.add(Dense(10, activation=\"softmax\"))\n"
      ],
      "execution_count": 12,
      "outputs": []
    },
    {
      "cell_type": "code",
      "metadata": {
        "id": "9z_X5H4lCc9L"
      },
      "source": [
        "model.compile(optimizer='Adam',loss='categorical_crossentropy',metrics=['accuracy'])"
      ],
      "execution_count": 13,
      "outputs": []
    },
    {
      "cell_type": "code",
      "metadata": {
        "colab": {
          "base_uri": "https://localhost:8080/"
        },
        "id": "pn9KlBx1Dz4A",
        "outputId": "e598f067-7020-42a2-ab8b-1b48cadde76a"
      },
      "source": [
        "model.fit(x_train,y_train,epochs=10,batch_size=32)"
      ],
      "execution_count": 14,
      "outputs": [
        {
          "output_type": "stream",
          "text": [
            "Epoch 1/10\n",
            "1875/1875 [==============================] - 43s 8ms/step - loss: 0.5726 - accuracy: 0.7943\n",
            "Epoch 2/10\n",
            "1875/1875 [==============================] - 14s 7ms/step - loss: 0.4061 - accuracy: 0.8521\n",
            "Epoch 3/10\n",
            "1875/1875 [==============================] - 14s 7ms/step - loss: 0.3676 - accuracy: 0.8663\n",
            "Epoch 4/10\n",
            "1875/1875 [==============================] - 14s 7ms/step - loss: 0.3475 - accuracy: 0.8730\n",
            "Epoch 5/10\n",
            "1875/1875 [==============================] - 14s 7ms/step - loss: 0.3282 - accuracy: 0.8798\n",
            "Epoch 6/10\n",
            "1875/1875 [==============================] - 14s 7ms/step - loss: 0.3147 - accuracy: 0.8847\n",
            "Epoch 7/10\n",
            "1875/1875 [==============================] - 14s 7ms/step - loss: 0.3012 - accuracy: 0.8909\n",
            "Epoch 8/10\n",
            "1875/1875 [==============================] - 14s 7ms/step - loss: 0.2926 - accuracy: 0.8914\n",
            "Epoch 9/10\n",
            "1875/1875 [==============================] - 14s 7ms/step - loss: 0.2836 - accuracy: 0.8948\n",
            "Epoch 10/10\n",
            "1875/1875 [==============================] - 14s 7ms/step - loss: 0.2764 - accuracy: 0.8972\n"
          ],
          "name": "stdout"
        },
        {
          "output_type": "execute_result",
          "data": {
            "text/plain": [
              "<tensorflow.python.keras.callbacks.History at 0x7fbc002c7a10>"
            ]
          },
          "metadata": {
            "tags": []
          },
          "execution_count": 14
        }
      ]
    },
    {
      "cell_type": "code",
      "metadata": {
        "colab": {
          "base_uri": "https://localhost:8080/"
        },
        "id": "aqwdKewEDwjk",
        "outputId": "6f39a819-ff6f-40ed-e81d-ff9ca3ec8667"
      },
      "source": [
        "model.summary()"
      ],
      "execution_count": 15,
      "outputs": [
        {
          "output_type": "stream",
          "text": [
            "Model: \"sequential\"\n",
            "_________________________________________________________________\n",
            "Layer (type)                 Output Shape              Param #   \n",
            "=================================================================\n",
            "batch_normalization (BatchNo (32, 28, 28, 1)           4         \n",
            "_________________________________________________________________\n",
            "conv2d (Conv2D)              (32, 25, 25, 64)          1088      \n",
            "_________________________________________________________________\n",
            "max_pooling2d (MaxPooling2D) (32, 12, 12, 64)          0         \n",
            "_________________________________________________________________\n",
            "dropout (Dropout)            (32, 12, 12, 64)          0         \n",
            "_________________________________________________________________\n",
            "conv2d_1 (Conv2D)            (32, 9, 9, 64)            65600     \n",
            "_________________________________________________________________\n",
            "max_pooling2d_1 (MaxPooling2 (32, 4, 4, 64)            0         \n",
            "_________________________________________________________________\n",
            "dropout_1 (Dropout)          (32, 4, 4, 64)            0         \n",
            "_________________________________________________________________\n",
            "flatten (Flatten)            (32, 1024)                0         \n",
            "_________________________________________________________________\n",
            "dense (Dense)                (32, 256)                 262400    \n",
            "_________________________________________________________________\n",
            "dropout_2 (Dropout)          (32, 256)                 0         \n",
            "_________________________________________________________________\n",
            "batch_normalization_1 (Batch (32, 256)                 1024      \n",
            "_________________________________________________________________\n",
            "dense_1 (Dense)              (32, 10)                  2570      \n",
            "=================================================================\n",
            "Total params: 332,686\n",
            "Trainable params: 332,172\n",
            "Non-trainable params: 514\n",
            "_________________________________________________________________\n"
          ],
          "name": "stdout"
        }
      ]
    },
    {
      "cell_type": "markdown",
      "metadata": {
        "id": "zDOCMP9TkxqL"
      },
      "source": [
        "Evaluation of model"
      ]
    },
    {
      "cell_type": "code",
      "metadata": {
        "colab": {
          "base_uri": "https://localhost:8080/"
        },
        "id": "jjhZ5G6lELfS",
        "outputId": "4f529071-7c3c-46ae-c94e-fa786043077b"
      },
      "source": [
        "model.evaluate(x_test,y_test)"
      ],
      "execution_count": 16,
      "outputs": [
        {
          "output_type": "stream",
          "text": [
            "313/313 [==============================] - 2s 4ms/step - loss: 0.2873 - accuracy: 0.8947\n"
          ],
          "name": "stdout"
        },
        {
          "output_type": "execute_result",
          "data": {
            "text/plain": [
              "[0.2872924208641052, 0.8946999907493591]"
            ]
          },
          "metadata": {
            "tags": []
          },
          "execution_count": 16
        }
      ]
    },
    {
      "cell_type": "markdown",
      "metadata": {
        "id": "aRFsZQmWk2_-"
      },
      "source": [
        "Predicition from model"
      ]
    },
    {
      "cell_type": "code",
      "metadata": {
        "id": "GfD1xiERIXJp",
        "colab": {
          "base_uri": "https://localhost:8080/"
        },
        "outputId": "18fd5646-a18c-4aff-8ff3-811f02bfa45a"
      },
      "source": [
        "prediction= model.predict_classes(x_test, verbose=0)"
      ],
      "execution_count": 17,
      "outputs": [
        {
          "output_type": "stream",
          "text": [
            "/usr/local/lib/python3.7/dist-packages/tensorflow/python/keras/engine/sequential.py:455: UserWarning: `model.predict_classes()` is deprecated and will be removed after 2021-01-01. Please use instead:* `np.argmax(model.predict(x), axis=-1)`,   if your model does multi-class classification   (e.g. if it uses a `softmax` last-layer activation).* `(model.predict(x) > 0.5).astype(\"int32\")`,   if your model does binary classification   (e.g. if it uses a `sigmoid` last-layer activation).\n",
            "  warnings.warn('`model.predict_classes()` is deprecated and '\n"
          ],
          "name": "stderr"
        }
      ]
    },
    {
      "cell_type": "code",
      "metadata": {
        "colab": {
          "base_uri": "https://localhost:8080/"
        },
        "id": "p-9FBE6ZMq1y",
        "outputId": "0865a0af-83b1-4318-9d4f-593ca32085ec"
      },
      "source": [
        "prediction"
      ],
      "execution_count": 18,
      "outputs": [
        {
          "output_type": "execute_result",
          "data": {
            "text/plain": [
              "array([9, 2, 1, ..., 8, 1, 7])"
            ]
          },
          "metadata": {
            "tags": []
          },
          "execution_count": 18
        }
      ]
    },
    {
      "cell_type": "code",
      "metadata": {
        "colab": {
          "base_uri": "https://localhost:8080/"
        },
        "id": "6BGzaUm8czGV",
        "outputId": "af4bbd1a-6cee-4ca5-b137-fb0c8ab8927d"
      },
      "source": [
        "\n",
        "y_test=np.argmax(y_test, axis=1)\n",
        "y_test[1]"
      ],
      "execution_count": 19,
      "outputs": [
        {
          "output_type": "execute_result",
          "data": {
            "text/plain": [
              "2"
            ]
          },
          "metadata": {
            "tags": []
          },
          "execution_count": 19
        }
      ]
    },
    {
      "cell_type": "markdown",
      "metadata": {
        "id": "dvni9LfNk-Xs"
      },
      "source": [
        "Classification Report"
      ]
    },
    {
      "cell_type": "code",
      "metadata": {
        "colab": {
          "base_uri": "https://localhost:8080/"
        },
        "id": "8OBQXSMYM4Vl",
        "outputId": "4cb7557a-467f-4077-9f20-b264b0c0c2c3"
      },
      "source": [
        "print(classification_report(y_test,prediction))"
      ],
      "execution_count": 20,
      "outputs": [
        {
          "output_type": "stream",
          "text": [
            "              precision    recall  f1-score   support\n",
            "\n",
            "           0       0.78      0.94      0.85      1000\n",
            "           1       1.00      0.97      0.98      1000\n",
            "           2       0.79      0.88      0.83      1000\n",
            "           3       0.91      0.91      0.91      1000\n",
            "           4       0.84      0.81      0.83      1000\n",
            "           5       0.99      0.95      0.97      1000\n",
            "           6       0.77      0.57      0.66      1000\n",
            "           7       0.93      0.98      0.95      1000\n",
            "           8       0.98      0.98      0.98      1000\n",
            "           9       0.97      0.96      0.96      1000\n",
            "\n",
            "    accuracy                           0.89     10000\n",
            "   macro avg       0.90      0.89      0.89     10000\n",
            "weighted avg       0.90      0.89      0.89     10000\n",
            "\n"
          ],
          "name": "stdout"
        }
      ]
    }
  ]
}